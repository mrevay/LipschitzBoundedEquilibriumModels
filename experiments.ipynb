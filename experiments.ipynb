{
 "cells": [
  {
   "cell_type": "code",
   "execution_count": 2,
   "metadata": {},
   "outputs": [],
   "source": [
    "import splitting as sp\n",
    "import train"
   ]
  },
  {
   "cell_type": "markdown",
   "metadata": {},
   "source": [
    "### Multi-tier MON, CIFAR-10"
   ]
  },
  {
   "cell_type": "code",
   "execution_count": 3,
   "metadata": {
    "collapsed": false,
    "jupyter": {
     "outputs_hidden": false
    },
    "pycharm": {
     "name": "#%%\n"
    },
    "tags": []
   },
   "outputs": [
    {
     "output_type": "stream",
     "name": "stdout",
     "text": "Downloading https://www.cs.toronto.edu/~kriz/cifar-10-python.tar.gz to data/cifar-10-python.tar.gz\n100.0%Extracting data/cifar-10-python.tar.gz to data\n"
    },
    {
     "output_type": "error",
     "ename": "KeyboardInterrupt",
     "evalue": "",
     "traceback": [
      "\u001b[0;31m---------------------------------------------------------------------------\u001b[0m",
      "\u001b[0;31mKeyboardInterrupt\u001b[0m                         Traceback (most recent call last)",
      "\u001b[0;32m<ipython-input-3-671a09053de9>\u001b[0m in \u001b[0;36m<module>\u001b[0;34m\u001b[0m\n\u001b[1;32m     17\u001b[0m         \u001b[0mepochs\u001b[0m\u001b[0;34m=\u001b[0m\u001b[0;36m1\u001b[0m\u001b[0;34m,\u001b[0m\u001b[0;34m\u001b[0m\u001b[0;34m\u001b[0m\u001b[0m\n\u001b[1;32m     18\u001b[0m         \u001b[0mprint_freq\u001b[0m\u001b[0;34m=\u001b[0m\u001b[0;36m100\u001b[0m\u001b[0;34m,\u001b[0m\u001b[0;34m\u001b[0m\u001b[0;34m\u001b[0m\u001b[0m\n\u001b[0;32m---> 19\u001b[0;31m         tune_alpha=True)\n\u001b[0m",
      "\u001b[0;32m~/monotone_op_net/train.py\u001b[0m in \u001b[0;36mtrain\u001b[0;34m(trainLoader, testLoader, model, epochs, max_lr, print_freq, change_mo, model_path, lr_mode, step, tune_alpha, max_alpha)\u001b[0m\n\u001b[1;32m     59\u001b[0m             \u001b[0mdata\u001b[0m\u001b[0;34m,\u001b[0m \u001b[0mtarget\u001b[0m \u001b[0;34m=\u001b[0m \u001b[0mcuda\u001b[0m\u001b[0;34m(\u001b[0m\u001b[0mbatch\u001b[0m\u001b[0;34m[\u001b[0m\u001b[0;36m0\u001b[0m\u001b[0;34m]\u001b[0m\u001b[0;34m)\u001b[0m\u001b[0;34m,\u001b[0m \u001b[0mcuda\u001b[0m\u001b[0;34m(\u001b[0m\u001b[0mbatch\u001b[0m\u001b[0;34m[\u001b[0m\u001b[0;36m1\u001b[0m\u001b[0;34m]\u001b[0m\u001b[0;34m)\u001b[0m\u001b[0;34m\u001b[0m\u001b[0;34m\u001b[0m\u001b[0m\n\u001b[1;32m     60\u001b[0m             \u001b[0moptimizer\u001b[0m\u001b[0;34m.\u001b[0m\u001b[0mzero_grad\u001b[0m\u001b[0;34m(\u001b[0m\u001b[0;34m)\u001b[0m\u001b[0;34m\u001b[0m\u001b[0;34m\u001b[0m\u001b[0m\n\u001b[0;32m---> 61\u001b[0;31m             \u001b[0mpreds\u001b[0m \u001b[0;34m=\u001b[0m \u001b[0mmodel\u001b[0m\u001b[0;34m(\u001b[0m\u001b[0mdata\u001b[0m\u001b[0;34m)\u001b[0m\u001b[0;34m\u001b[0m\u001b[0;34m\u001b[0m\u001b[0m\n\u001b[0m\u001b[1;32m     62\u001b[0m             \u001b[0mce_loss\u001b[0m \u001b[0;34m=\u001b[0m \u001b[0mnn\u001b[0m\u001b[0;34m.\u001b[0m\u001b[0mCrossEntropyLoss\u001b[0m\u001b[0;34m(\u001b[0m\u001b[0;34m)\u001b[0m\u001b[0;34m(\u001b[0m\u001b[0mpreds\u001b[0m\u001b[0;34m,\u001b[0m \u001b[0mtarget\u001b[0m\u001b[0;34m)\u001b[0m\u001b[0;34m\u001b[0m\u001b[0;34m\u001b[0m\u001b[0m\n\u001b[1;32m     63\u001b[0m             \u001b[0mce_loss\u001b[0m\u001b[0;34m.\u001b[0m\u001b[0mbackward\u001b[0m\u001b[0;34m(\u001b[0m\u001b[0;34m)\u001b[0m\u001b[0;34m\u001b[0m\u001b[0;34m\u001b[0m\u001b[0m\n",
      "\u001b[0;32m~/monotone_op_net/venv/lib/python3.6/site-packages/torch/nn/modules/module.py\u001b[0m in \u001b[0;36m_call_impl\u001b[0;34m(self, *input, **kwargs)\u001b[0m\n\u001b[1;32m    720\u001b[0m             \u001b[0mresult\u001b[0m \u001b[0;34m=\u001b[0m \u001b[0mself\u001b[0m\u001b[0;34m.\u001b[0m\u001b[0m_slow_forward\u001b[0m\u001b[0;34m(\u001b[0m\u001b[0;34m*\u001b[0m\u001b[0minput\u001b[0m\u001b[0;34m,\u001b[0m \u001b[0;34m**\u001b[0m\u001b[0mkwargs\u001b[0m\u001b[0;34m)\u001b[0m\u001b[0;34m\u001b[0m\u001b[0;34m\u001b[0m\u001b[0m\n\u001b[1;32m    721\u001b[0m         \u001b[0;32melse\u001b[0m\u001b[0;34m:\u001b[0m\u001b[0;34m\u001b[0m\u001b[0;34m\u001b[0m\u001b[0m\n\u001b[0;32m--> 722\u001b[0;31m             \u001b[0mresult\u001b[0m \u001b[0;34m=\u001b[0m \u001b[0mself\u001b[0m\u001b[0;34m.\u001b[0m\u001b[0mforward\u001b[0m\u001b[0;34m(\u001b[0m\u001b[0;34m*\u001b[0m\u001b[0minput\u001b[0m\u001b[0;34m,\u001b[0m \u001b[0;34m**\u001b[0m\u001b[0mkwargs\u001b[0m\u001b[0;34m)\u001b[0m\u001b[0;34m\u001b[0m\u001b[0;34m\u001b[0m\u001b[0m\n\u001b[0m\u001b[1;32m    723\u001b[0m         for hook in itertools.chain(\n\u001b[1;32m    724\u001b[0m                 \u001b[0m_global_forward_hooks\u001b[0m\u001b[0;34m.\u001b[0m\u001b[0mvalues\u001b[0m\u001b[0;34m(\u001b[0m\u001b[0;34m)\u001b[0m\u001b[0;34m,\u001b[0m\u001b[0;34m\u001b[0m\u001b[0;34m\u001b[0m\u001b[0m\n",
      "\u001b[0;32m~/monotone_op_net/train.py\u001b[0m in \u001b[0;36mforward\u001b[0;34m(self, x)\u001b[0m\n\u001b[1;32m    282\u001b[0m     \u001b[0;32mdef\u001b[0m \u001b[0mforward\u001b[0m\u001b[0;34m(\u001b[0m\u001b[0mself\u001b[0m\u001b[0;34m,\u001b[0m \u001b[0mx\u001b[0m\u001b[0;34m)\u001b[0m\u001b[0;34m:\u001b[0m\u001b[0;34m\u001b[0m\u001b[0;34m\u001b[0m\u001b[0m\n\u001b[1;32m    283\u001b[0m         \u001b[0mx\u001b[0m \u001b[0;34m=\u001b[0m \u001b[0mF\u001b[0m\u001b[0;34m.\u001b[0m\u001b[0mpad\u001b[0m\u001b[0;34m(\u001b[0m\u001b[0mx\u001b[0m\u001b[0;34m,\u001b[0m \u001b[0;34m(\u001b[0m\u001b[0;36m1\u001b[0m\u001b[0;34m,\u001b[0m\u001b[0;36m1\u001b[0m\u001b[0;34m,\u001b[0m\u001b[0;36m1\u001b[0m\u001b[0;34m,\u001b[0m\u001b[0;36m1\u001b[0m\u001b[0;34m)\u001b[0m\u001b[0;34m)\u001b[0m\u001b[0;34m\u001b[0m\u001b[0;34m\u001b[0m\u001b[0m\n\u001b[0;32m--> 284\u001b[0;31m         \u001b[0mzs\u001b[0m \u001b[0;34m=\u001b[0m \u001b[0mself\u001b[0m\u001b[0;34m.\u001b[0m\u001b[0mmon\u001b[0m\u001b[0;34m(\u001b[0m\u001b[0mx\u001b[0m\u001b[0;34m)\u001b[0m\u001b[0;34m\u001b[0m\u001b[0;34m\u001b[0m\u001b[0m\n\u001b[0m\u001b[1;32m    285\u001b[0m         \u001b[0mz\u001b[0m \u001b[0;34m=\u001b[0m \u001b[0mzs\u001b[0m\u001b[0;34m[\u001b[0m\u001b[0;34m-\u001b[0m\u001b[0;36m1\u001b[0m\u001b[0;34m]\u001b[0m\u001b[0;34m\u001b[0m\u001b[0;34m\u001b[0m\u001b[0m\n\u001b[1;32m    286\u001b[0m         \u001b[0mz\u001b[0m \u001b[0;34m=\u001b[0m \u001b[0mz\u001b[0m\u001b[0;34m.\u001b[0m\u001b[0mview\u001b[0m\u001b[0;34m(\u001b[0m\u001b[0mz\u001b[0m\u001b[0;34m.\u001b[0m\u001b[0mshape\u001b[0m\u001b[0;34m[\u001b[0m\u001b[0;36m0\u001b[0m\u001b[0;34m]\u001b[0m\u001b[0;34m,\u001b[0m\u001b[0;34m-\u001b[0m\u001b[0;36m1\u001b[0m\u001b[0;34m)\u001b[0m\u001b[0;34m\u001b[0m\u001b[0;34m\u001b[0m\u001b[0m\n",
      "\u001b[0;32m~/monotone_op_net/venv/lib/python3.6/site-packages/torch/nn/modules/module.py\u001b[0m in \u001b[0;36m_call_impl\u001b[0;34m(self, *input, **kwargs)\u001b[0m\n\u001b[1;32m    720\u001b[0m             \u001b[0mresult\u001b[0m \u001b[0;34m=\u001b[0m \u001b[0mself\u001b[0m\u001b[0;34m.\u001b[0m\u001b[0m_slow_forward\u001b[0m\u001b[0;34m(\u001b[0m\u001b[0;34m*\u001b[0m\u001b[0minput\u001b[0m\u001b[0;34m,\u001b[0m \u001b[0;34m**\u001b[0m\u001b[0mkwargs\u001b[0m\u001b[0;34m)\u001b[0m\u001b[0;34m\u001b[0m\u001b[0;34m\u001b[0m\u001b[0m\n\u001b[1;32m    721\u001b[0m         \u001b[0;32melse\u001b[0m\u001b[0;34m:\u001b[0m\u001b[0;34m\u001b[0m\u001b[0;34m\u001b[0m\u001b[0m\n\u001b[0;32m--> 722\u001b[0;31m             \u001b[0mresult\u001b[0m \u001b[0;34m=\u001b[0m \u001b[0mself\u001b[0m\u001b[0;34m.\u001b[0m\u001b[0mforward\u001b[0m\u001b[0;34m(\u001b[0m\u001b[0;34m*\u001b[0m\u001b[0minput\u001b[0m\u001b[0;34m,\u001b[0m \u001b[0;34m**\u001b[0m\u001b[0mkwargs\u001b[0m\u001b[0;34m)\u001b[0m\u001b[0;34m\u001b[0m\u001b[0;34m\u001b[0m\u001b[0m\n\u001b[0m\u001b[1;32m    723\u001b[0m         for hook in itertools.chain(\n\u001b[1;32m    724\u001b[0m                 \u001b[0m_global_forward_hooks\u001b[0m\u001b[0;34m.\u001b[0m\u001b[0mvalues\u001b[0m\u001b[0;34m(\u001b[0m\u001b[0;34m)\u001b[0m\u001b[0;34m,\u001b[0m\u001b[0;34m\u001b[0m\u001b[0;34m\u001b[0m\u001b[0m\n",
      "\u001b[0;32m~/monotone_op_net/splitting.py\u001b[0m in \u001b[0;36mforward\u001b[0;34m(self, x)\u001b[0m\n\u001b[1;32m    137\u001b[0m             \u001b[0;32mwhile\u001b[0m \u001b[0;34m(\u001b[0m\u001b[0merr\u001b[0m \u001b[0;34m>\u001b[0m \u001b[0mself\u001b[0m\u001b[0;34m.\u001b[0m\u001b[0mtol\u001b[0m \u001b[0;32mand\u001b[0m \u001b[0mit\u001b[0m \u001b[0;34m<\u001b[0m \u001b[0mself\u001b[0m\u001b[0;34m.\u001b[0m\u001b[0mmax_iter\u001b[0m\u001b[0;34m)\u001b[0m\u001b[0;34m:\u001b[0m\u001b[0;34m\u001b[0m\u001b[0;34m\u001b[0m\u001b[0m\n\u001b[1;32m    138\u001b[0m                 \u001b[0mu_12\u001b[0m \u001b[0;34m=\u001b[0m \u001b[0mtuple\u001b[0m\u001b[0;34m(\u001b[0m\u001b[0;36m2\u001b[0m \u001b[0;34m*\u001b[0m \u001b[0mz\u001b[0m\u001b[0;34m[\u001b[0m\u001b[0mi\u001b[0m\u001b[0;34m]\u001b[0m \u001b[0;34m-\u001b[0m \u001b[0mu\u001b[0m\u001b[0;34m[\u001b[0m\u001b[0mi\u001b[0m\u001b[0;34m]\u001b[0m \u001b[0;32mfor\u001b[0m \u001b[0mi\u001b[0m \u001b[0;32min\u001b[0m \u001b[0mrange\u001b[0m\u001b[0;34m(\u001b[0m\u001b[0mn\u001b[0m\u001b[0;34m)\u001b[0m\u001b[0;34m)\u001b[0m\u001b[0;34m\u001b[0m\u001b[0;34m\u001b[0m\u001b[0m\n\u001b[0;32m--> 139\u001b[0;31m                 \u001b[0mz_12\u001b[0m \u001b[0;34m=\u001b[0m \u001b[0mself\u001b[0m\u001b[0;34m.\u001b[0m\u001b[0mlinear_module\u001b[0m\u001b[0;34m.\u001b[0m\u001b[0minverse\u001b[0m\u001b[0;34m(\u001b[0m\u001b[0;34m*\u001b[0m\u001b[0mtuple\u001b[0m\u001b[0;34m(\u001b[0m\u001b[0mu_12\u001b[0m\u001b[0;34m[\u001b[0m\u001b[0mi\u001b[0m\u001b[0;34m]\u001b[0m \u001b[0;34m+\u001b[0m \u001b[0mself\u001b[0m\u001b[0;34m.\u001b[0m\u001b[0malpha\u001b[0m \u001b[0;34m*\u001b[0m \u001b[0mbias\u001b[0m\u001b[0;34m[\u001b[0m\u001b[0mi\u001b[0m\u001b[0;34m]\u001b[0m \u001b[0;32mfor\u001b[0m \u001b[0mi\u001b[0m \u001b[0;32min\u001b[0m \u001b[0mrange\u001b[0m\u001b[0;34m(\u001b[0m\u001b[0mn\u001b[0m\u001b[0;34m)\u001b[0m\u001b[0;34m)\u001b[0m\u001b[0;34m)\u001b[0m\u001b[0;34m\u001b[0m\u001b[0;34m\u001b[0m\u001b[0m\n\u001b[0m\u001b[1;32m    140\u001b[0m                 \u001b[0mu\u001b[0m \u001b[0;34m=\u001b[0m \u001b[0mtuple\u001b[0m\u001b[0;34m(\u001b[0m\u001b[0;36m2\u001b[0m \u001b[0;34m*\u001b[0m \u001b[0mz_12\u001b[0m\u001b[0;34m[\u001b[0m\u001b[0mi\u001b[0m\u001b[0;34m]\u001b[0m \u001b[0;34m-\u001b[0m \u001b[0mu_12\u001b[0m\u001b[0;34m[\u001b[0m\u001b[0mi\u001b[0m\u001b[0;34m]\u001b[0m \u001b[0;32mfor\u001b[0m \u001b[0mi\u001b[0m \u001b[0;32min\u001b[0m \u001b[0mrange\u001b[0m\u001b[0;34m(\u001b[0m\u001b[0mn\u001b[0m\u001b[0;34m)\u001b[0m\u001b[0;34m)\u001b[0m\u001b[0;34m\u001b[0m\u001b[0;34m\u001b[0m\u001b[0m\n\u001b[1;32m    141\u001b[0m                 \u001b[0mzn\u001b[0m \u001b[0;34m=\u001b[0m \u001b[0mself\u001b[0m\u001b[0;34m.\u001b[0m\u001b[0mnonlin_module\u001b[0m\u001b[0;34m(\u001b[0m\u001b[0;34m*\u001b[0m\u001b[0mu\u001b[0m\u001b[0;34m)\u001b[0m\u001b[0;34m\u001b[0m\u001b[0;34m\u001b[0m\u001b[0m\n",
      "\u001b[0;32m~/monotone_op_net/mon.py\u001b[0m in \u001b[0;36minverse\u001b[0;34m(self, *z)\u001b[0m\n\u001b[1;32m    417\u001b[0m         \u001b[0;32mfor\u001b[0m \u001b[0mi\u001b[0m \u001b[0;32min\u001b[0m \u001b[0mrange\u001b[0m\u001b[0;34m(\u001b[0m\u001b[0mn\u001b[0m \u001b[0;34m-\u001b[0m \u001b[0;36m1\u001b[0m\u001b[0;34m)\u001b[0m\u001b[0;34m:\u001b[0m\u001b[0;34m\u001b[0m\u001b[0;34m\u001b[0m\u001b[0m\n\u001b[1;32m    418\u001b[0m             \u001b[0mA_nx0\u001b[0m \u001b[0;34m=\u001b[0m \u001b[0mself\u001b[0m\u001b[0;34m.\u001b[0m\u001b[0mzpad\u001b[0m\u001b[0;34m(\u001b[0m\u001b[0mF\u001b[0m\u001b[0;34m.\u001b[0m\u001b[0mconv2d\u001b[0m\u001b[0;34m(\u001b[0m\u001b[0mself\u001b[0m\u001b[0;34m.\u001b[0m\u001b[0mcpad\u001b[0m\u001b[0;34m(\u001b[0m\u001b[0mx\u001b[0m\u001b[0;34m[\u001b[0m\u001b[0;34m-\u001b[0m\u001b[0;36m1\u001b[0m\u001b[0;34m]\u001b[0m\u001b[0;34m)\u001b[0m\u001b[0;34m,\u001b[0m \u001b[0mself\u001b[0m\u001b[0;34m.\u001b[0m\u001b[0mA_n\u001b[0m\u001b[0;34m(\u001b[0m\u001b[0mi\u001b[0m\u001b[0;34m)\u001b[0m\u001b[0;34m,\u001b[0m \u001b[0mstride\u001b[0m\u001b[0;34m=\u001b[0m\u001b[0;36m2\u001b[0m\u001b[0;34m)\u001b[0m\u001b[0;34m)\u001b[0m\u001b[0;34m\u001b[0m\u001b[0;34m\u001b[0m\u001b[0m\n\u001b[0;32m--> 419\u001b[0;31m             \u001b[0mATA_nx0\u001b[0m \u001b[0;34m=\u001b[0m \u001b[0mself\u001b[0m\u001b[0;34m.\u001b[0m\u001b[0muncpad\u001b[0m\u001b[0;34m(\u001b[0m\u001b[0mF\u001b[0m\u001b[0;34m.\u001b[0m\u001b[0mconv_transpose2d\u001b[0m\u001b[0;34m(\u001b[0m\u001b[0mself\u001b[0m\u001b[0;34m.\u001b[0m\u001b[0mcpad\u001b[0m\u001b[0;34m(\u001b[0m\u001b[0mA_nx0\u001b[0m\u001b[0;34m)\u001b[0m\u001b[0;34m,\u001b[0m \u001b[0mself\u001b[0m\u001b[0;34m.\u001b[0m\u001b[0mA\u001b[0m\u001b[0;34m(\u001b[0m\u001b[0mi\u001b[0m \u001b[0;34m+\u001b[0m \u001b[0;36m1\u001b[0m\u001b[0;34m)\u001b[0m\u001b[0;34m)\u001b[0m\u001b[0;34m)\u001b[0m\u001b[0;34m\u001b[0m\u001b[0;34m\u001b[0m\u001b[0m\n\u001b[0m\u001b[1;32m    420\u001b[0m             \u001b[0mxn\u001b[0m \u001b[0;34m=\u001b[0m \u001b[0;34m-\u001b[0m\u001b[0mself\u001b[0m\u001b[0;34m.\u001b[0m\u001b[0mbeta\u001b[0m \u001b[0;34m*\u001b[0m \u001b[0;36m2\u001b[0m \u001b[0;34m*\u001b[0m \u001b[0mATA_nx0\u001b[0m\u001b[0;34m\u001b[0m\u001b[0;34m\u001b[0m\u001b[0m\n\u001b[1;32m    421\u001b[0m             \u001b[0;32mif\u001b[0m \u001b[0mi\u001b[0m \u001b[0;34m<\u001b[0m \u001b[0mn\u001b[0m \u001b[0;34m-\u001b[0m \u001b[0;36m2\u001b[0m\u001b[0;34m:\u001b[0m\u001b[0;34m\u001b[0m\u001b[0;34m\u001b[0m\u001b[0m\n",
      "\u001b[0;31mKeyboardInterrupt\u001b[0m: "
     ]
    }
   ],
   "source": [
    "trainLoader, testLoader = train.cifar_loaders(train_batch_size=128, test_batch_size=400, augment=False)\n",
    "\n",
    "train.train(trainLoader, testLoader,\n",
    "      train.MultiConvNet(sp.MONPeacemanRachford,\n",
    "                        in_dim=32,\n",
    "                        in_channels=3,\n",
    "                        conv_sizes=(16,32,60),\n",
    "                        alpha=1.0,\n",
    "                        max_iter=300,\n",
    "                        tol=1e-2,\n",
    "                        m=1.0),\n",
    "        max_lr=1e-2,\n",
    "        lr_mode='step',\n",
    "        step=10,\n",
    "        change_mo=False,\n",
    "#         epochs=40,\n",
    "        epochs=1,\n",
    "        print_freq=100,\n",
    "        tune_alpha=True)"
   ]
  },
  {
   "cell_type": "markdown",
   "metadata": {},
   "source": [
    "### Single convolution MON, CIFAR-10"
   ]
  },
  {
   "cell_type": "code",
   "execution_count": 3,
   "metadata": {
    "collapsed": false,
    "jupyter": {
     "outputs_hidden": false
    },
    "pycharm": {
     "name": "#%%\n"
    }
   },
   "outputs": [
    {
     "name": "stdout",
     "output_type": "stream",
     "text": [
      "Files already downloaded and verified\n",
      "----tuning alpha----\n",
      "current:  1.0\n",
      "alpha: 1.0\t iters: 5\n",
      "alpha: 0.5\t iters: 6\n",
      "setting to:  1.0\n",
      "--------------\n",
      "\n",
      "Train Epoch: 0.26 [12928/50000 (26%)]\tLoss: 1.5369\tError: 55.47\n",
      "Fwd iters: 5.00\tFwd Time: 0.0952\tBkwd Iters: 4.08\tBkwd Time: 0.1252\n",
      "\n",
      "----tuning alpha----\n",
      "current:  1.0\n",
      "alpha: 1.0\t iters: 5\n",
      "alpha: 0.5\t iters: 6\n",
      "setting to:  1.0\n",
      "--------------\n",
      "\n",
      "Train Epoch: 0.51 [25728/50000 (51%)]\tLoss: 1.3328\tError: 49.22\n",
      "Fwd iters: 5.00\tFwd Time: 0.0952\tBkwd Iters: 5.00\tBkwd Time: 0.1503\n",
      "\n",
      "Train Epoch: 0.77 [38528/50000 (77%)]\tLoss: 1.2660\tError: 42.97\n",
      "Fwd iters: 5.00\tFwd Time: 0.0953\tBkwd Iters: 5.00\tBkwd Time: 0.1502\n",
      "\n",
      "Tot train time: 108.33764362335205\n",
      "\n",
      "\n",
      "Test set: Average loss: 1.2514, Error: 4418/10000 (44.18%)\n",
      "Tot test time: 7.238377332687378\n",
      "\n",
      "\n",
      "\n",
      "\n"
     ]
    }
   ],
   "source": [
    "trainLoader, testLoader = train.cifar_loaders(train_batch_size=128, test_batch_size=400, augment=False)\n",
    "\n",
    "train.train(trainLoader, testLoader,\n",
    "      train.SingleConvNet(sp.MONPeacemanRachford,\n",
    "                        in_dim=32,\n",
    "                        in_channels=3,\n",
    "                        out_channels=81,\n",
    "                        alpha=1.0,\n",
    "                        max_iter=300,\n",
    "                        tol=1e-2,\n",
    "                        m=1.0),\n",
    "        max_lr=1e-3,\n",
    "        lr_mode='step',\n",
    "        step=25,\n",
    "        change_mo=False,\n",
    "#         epochs=40,\n",
    "        epochs=1,\n",
    "        print_freq=100,\n",
    "        tune_alpha=True)"
   ]
  },
  {
   "cell_type": "markdown",
   "metadata": {},
   "source": [
    "### Multi-tier MON, CIFAR-10 + data augmentation"
   ]
  },
  {
   "cell_type": "code",
   "execution_count": 4,
   "metadata": {
    "pycharm": {
     "name": "#%%\n"
    }
   },
   "outputs": [
    {
     "name": "stdout",
     "output_type": "stream",
     "text": [
      "Files already downloaded and verified\n",
      "----tuning alpha----\n",
      "current:  1.0\n",
      "alpha: 1.0\t iters: 7\n",
      "alpha: 0.5\t iters: 7\n",
      "alpha: 0.25\t iters: 12\n",
      "setting to:  0.5\n",
      "--------------\n",
      "\n",
      "Train Epoch: 0.26 [12928/50000 (26%)]\tLoss: 1.9840\tError: 75.00\n",
      "Fwd iters: 7.70\tFwd Time: 0.3544\tBkwd Iters: 7.99\tBkwd Time: 0.4853\n",
      "\n",
      "----tuning alpha----\n",
      "current:  0.5\n",
      "alpha: 1.0\t iters: 8\n",
      "alpha: 0.5\t iters: 7\n",
      "alpha: 0.25\t iters: 11\n",
      "setting to:  0.5\n",
      "--------------\n",
      "\n",
      "Train Epoch: 0.51 [25728/50000 (51%)]\tLoss: 1.8562\tError: 67.97\n",
      "Fwd iters: 7.00\tFwd Time: 0.3321\tBkwd Iters: 8.00\tBkwd Time: 0.4866\n",
      "\n",
      "Train Epoch: 0.77 [38528/50000 (77%)]\tLoss: 1.7976\tError: 60.94\n",
      "Fwd iters: 7.81\tFwd Time: 0.3585\tBkwd Iters: 8.00\tBkwd Time: 0.4870\n",
      "\n",
      "Tot train time: 358.17819261550903\n",
      "\n",
      "\n",
      "Test set: Average loss: 1.5719, Error: 5797/10000 (57.97%)\n",
      "Tot test time: 23.59424901008606\n",
      "\n",
      "\n",
      "\n",
      "\n"
     ]
    }
   ],
   "source": [
    "trainLoader, testLoader = train.cifar_loaders(train_batch_size=128, test_batch_size=400, augment=True)\n",
    "\n",
    "train.train(trainLoader, testLoader,\n",
    "      train.MultiConvNet(sp.MONPeacemanRachford,\n",
    "                        in_dim=32,\n",
    "                        in_channels=3,\n",
    "                        conv_sizes=(64,128,128),\n",
    "                        alpha=1.0,\n",
    "                        max_iter=300,\n",
    "                        tol=1e-2,\n",
    "                        m=1.0),\n",
    "        max_lr=0.05,\n",
    "        lr_mode='1cycle',\n",
    "        change_mo=True,\n",
    "#         epochs=65,\n",
    "        epochs=1,\n",
    "        print_freq=100,\n",
    "        tune_alpha=True)"
   ]
  },
  {
   "cell_type": "markdown",
   "metadata": {},
   "source": [
    "### Single convolution MON, CIFAR-10 + data augmentation"
   ]
  },
  {
   "cell_type": "code",
   "execution_count": 5,
   "metadata": {
    "collapsed": false,
    "jupyter": {
     "outputs_hidden": false
    },
    "pycharm": {
     "name": "#%%\n"
    }
   },
   "outputs": [
    {
     "name": "stdout",
     "output_type": "stream",
     "text": [
      "Files already downloaded and verified\n",
      "----tuning alpha----\n",
      "current:  1.0\n",
      "alpha: 1.0\t iters: 6\n",
      "alpha: 0.5\t iters: 6\n",
      "alpha: 0.25\t iters: 8\n",
      "setting to:  0.5\n",
      "--------------\n",
      "\n",
      "Train Epoch: 0.26 [12928/50000 (26%)]\tLoss: 1.4396\tError: 50.78\n",
      "Fwd iters: 6.00\tFwd Time: 0.4187\tBkwd Iters: 6.00\tBkwd Time: 0.4716\n",
      "\n",
      "----tuning alpha----\n",
      "current:  0.5\n",
      "alpha: 1.0\t iters: 6\n",
      "alpha: 0.5\t iters: 6\n",
      "alpha: 0.25\t iters: 8\n",
      "setting to:  0.5\n",
      "--------------\n",
      "\n",
      "Train Epoch: 0.51 [25728/50000 (51%)]\tLoss: 1.4426\tError: 49.22\n",
      "Fwd iters: 6.00\tFwd Time: 0.4179\tBkwd Iters: 6.00\tBkwd Time: 0.4705\n",
      "\n",
      "Train Epoch: 0.77 [38528/50000 (77%)]\tLoss: 1.4308\tError: 51.56\n",
      "Fwd iters: 6.00\tFwd Time: 0.4195\tBkwd Iters: 6.00\tBkwd Time: 0.4716\n",
      "\n",
      "Tot train time: 383.9007320404053\n",
      "\n",
      "\n",
      "Test set: Average loss: 1.2711, Error: 4491/10000 (44.91%)\n",
      "Tot test time: 25.07926917076111\n",
      "\n",
      "\n",
      "\n",
      "\n"
     ]
    }
   ],
   "source": [
    "trainLoader, testLoader = train.cifar_loaders(train_batch_size=128, test_batch_size=400, augment=True)\n",
    "\n",
    "train.train(trainLoader, testLoader,\n",
    "      train.SingleConvNet(sp.MONPeacemanRachford,\n",
    "                        in_dim=32,\n",
    "                        in_channels=3,\n",
    "                        out_channels=200,\n",
    "                        alpha=1.0,\n",
    "                        max_iter=300,\n",
    "                        tol=1e-2,\n",
    "                        m=1.0),\n",
    "        max_lr=1e-2,\n",
    "        lr_mode='1cycle',\n",
    "        change_mo=True,\n",
    "#         epochs=65,\n",
    "        epochs=1,\n",
    "        print_freq=100,\n",
    "        tune_alpha=True)"
   ]
  },
  {
   "cell_type": "markdown",
   "metadata": {},
   "source": [
    "### Multi-tier MON, SVHN"
   ]
  },
  {
   "cell_type": "code",
   "execution_count": 6,
   "metadata": {
    "collapsed": false,
    "jupyter": {
     "outputs_hidden": false
    },
    "pycharm": {
     "name": "#%%\n"
    }
   },
   "outputs": [
    {
     "name": "stdout",
     "output_type": "stream",
     "text": [
      "Using downloaded and verified file: data/train_32x32.mat\n",
      "Using downloaded and verified file: data/test_32x32.mat\n",
      "----tuning alpha----\n",
      "current:  1.0\n",
      "alpha: 1.0\t iters: 7\n",
      "alpha: 0.5\t iters: 8\n",
      "setting to:  1.0\n",
      "--------------\n",
      "\n",
      "Train Epoch: 0.17 [12928/73257 (17%)]\tLoss: 2.2158\tError: 78.91\n",
      "Fwd iters: 6.99\tFwd Time: 0.0829\tBkwd Iters: 7.32\tBkwd Time: 0.1166\n",
      "\n",
      "Train Epoch: 0.35 [25728/73257 (35%)]\tLoss: 1.8257\tError: 64.84\n",
      "Fwd iters: 8.17\tFwd Time: 0.0918\tBkwd Iters: 10.15\tBkwd Time: 0.1582\n",
      "\n",
      "----tuning alpha----\n",
      "current:  1.0\n",
      "alpha: 1.0\t iters: 9\n",
      "alpha: 0.5\t iters: 8\n",
      "alpha: 0.25\t iters: 12\n",
      "setting to:  0.5\n",
      "--------------\n",
      "\n",
      "Train Epoch: 0.52 [38528/73257 (52%)]\tLoss: 1.2114\tError: 36.72\n",
      "Fwd iters: 8.00\tFwd Time: 0.0945\tBkwd Iters: 8.00\tBkwd Time: 0.1257\n",
      "\n",
      "Train Epoch: 0.70 [51328/73257 (70%)]\tLoss: 0.8822\tError: 22.66\n",
      "Fwd iters: 8.00\tFwd Time: 0.0920\tBkwd Iters: 8.00\tBkwd Time: 0.1258\n",
      "\n",
      "Train Epoch: 0.87 [64128/73257 (87%)]\tLoss: 0.9077\tError: 23.44\n",
      "Fwd iters: 8.00\tFwd Time: 0.0910\tBkwd Iters: 8.00\tBkwd Time: 0.1253\n",
      "\n",
      "Tot train time: 151.86186623573303\n",
      "\n",
      "\n",
      "Test set: Average loss: 0.7197, Error: 5396/26032 (20.73%)\n",
      "Tot test time: 19.842275619506836\n",
      "\n",
      "\n",
      "\n",
      "\n"
     ]
    }
   ],
   "source": [
    "trainLoader, testLoader = train.svhn_loaders(train_batch_size=128, test_batch_size=400)\n",
    "\n",
    "train.train(trainLoader, testLoader,\n",
    "      train.MultiConvNet(sp.MONPeacemanRachford,\n",
    "                        in_dim=32,\n",
    "                        in_channels=3,\n",
    "                        conv_sizes=(16,32,60),\n",
    "                        alpha=1.0,\n",
    "                        max_iter=300,\n",
    "                        tol=1e-2,\n",
    "                        m=1.0),\n",
    "        max_lr=1e-3,\n",
    "        lr_mode='step',\n",
    "        step=10,\n",
    "        change_mo=False,\n",
    "#         epochs=40,\n",
    "        epochs=1,\n",
    "        print_freq=100,\n",
    "        tune_alpha=True)"
   ]
  },
  {
   "cell_type": "markdown",
   "metadata": {},
   "source": [
    "### Single convolution MON, SVHN"
   ]
  },
  {
   "cell_type": "code",
   "execution_count": 7,
   "metadata": {
    "collapsed": false,
    "jupyter": {
     "outputs_hidden": false
    },
    "pycharm": {
     "name": "#%%\n"
    }
   },
   "outputs": [
    {
     "name": "stdout",
     "output_type": "stream",
     "text": [
      "Using downloaded and verified file: data/train_32x32.mat\n",
      "Using downloaded and verified file: data/test_32x32.mat\n",
      "----tuning alpha----\n",
      "current:  1.0\n",
      "alpha: 1.0\t iters: 5\n",
      "alpha: 0.5\t iters: 5\n",
      "alpha: 0.25\t iters: 8\n",
      "setting to:  0.5\n",
      "--------------\n",
      "\n",
      "Train Epoch: 0.17 [12928/73257 (17%)]\tLoss: 1.6229\tError: 43.75\n",
      "Fwd iters: 5.18\tFwd Time: 0.0974\tBkwd Iters: 6.00\tBkwd Time: 0.1792\n",
      "\n",
      "Train Epoch: 0.35 [25728/73257 (35%)]\tLoss: 0.9959\tError: 29.69\n",
      "Fwd iters: 6.00\tFwd Time: 0.1071\tBkwd Iters: 6.00\tBkwd Time: 0.1767\n",
      "\n",
      "----tuning alpha----\n",
      "current:  0.5\n",
      "alpha: 1.0\t iters: 5\n",
      "alpha: 0.5\t iters: 6\n",
      "setting to:  1.0\n",
      "--------------\n",
      "\n",
      "Train Epoch: 0.52 [38528/73257 (52%)]\tLoss: 0.9007\tError: 28.91\n",
      "Fwd iters: 5.13\tFwd Time: 0.0966\tBkwd Iters: 5.00\tBkwd Time: 0.1495\n",
      "\n",
      "Train Epoch: 0.70 [51328/73257 (70%)]\tLoss: 0.7787\tError: 24.22\n",
      "Fwd iters: 5.75\tFwd Time: 0.1035\tBkwd Iters: 5.14\tBkwd Time: 0.1533\n",
      "\n",
      "Train Epoch: 0.87 [64128/73257 (87%)]\tLoss: 0.7090\tError: 19.53\n",
      "Fwd iters: 6.00\tFwd Time: 0.1058\tBkwd Iters: 5.95\tBkwd Time: 0.1751\n",
      "\n",
      "Tot train time: 178.84369277954102\n",
      "\n",
      "\n",
      "Test set: Average loss: 0.7594, Error: 5671/26032 (21.78%)\n",
      "Tot test time: 21.099106550216675\n",
      "\n",
      "\n",
      "\n",
      "\n"
     ]
    }
   ],
   "source": [
    "trainLoader, testLoader = train.svhn_loaders(train_batch_size=128, test_batch_size=400)\n",
    "\n",
    "train.train(trainLoader, testLoader,\n",
    "      train.SingleConvNet(sp.MONPeacemanRachford,\n",
    "                        in_dim=32,\n",
    "                        in_channels=3,\n",
    "                        out_channels=81,\n",
    "                        alpha=1.0,\n",
    "                        max_iter=300,\n",
    "                        tol=1e-2,\n",
    "                        m=1.0),\n",
    "        max_lr=1e-3,\n",
    "        lr_mode='step',\n",
    "        step=25,\n",
    "        change_mo=False,\n",
    "#         epochs=40,\n",
    "        epochs=1,\n",
    "        print_freq=100,\n",
    "        tune_alpha=True)"
   ]
  },
  {
   "cell_type": "markdown",
   "metadata": {},
   "source": [
    "### Multi-tier MON, MNIST"
   ]
  },
  {
   "cell_type": "code",
   "execution_count": 8,
   "metadata": {
    "pycharm": {
     "name": "#%%\n"
    }
   },
   "outputs": [
    {
     "name": "stdout",
     "output_type": "stream",
     "text": [
      "----tuning alpha----\n",
      "current:  1.0\n",
      "alpha: 1.0\t iters: 9\n",
      "alpha: 0.5\t iters: 7\n",
      "alpha: 0.25\t iters: 11\n",
      "setting to:  0.5\n",
      "--------------\n",
      "\n",
      "Train Epoch: 0.21 [12928/60000 (21%)]\tLoss: 0.2957\tError: 8.59\n",
      "Fwd iters: 7.00\tFwd Time: 0.0668\tBkwd Iters: 7.03\tBkwd Time: 0.0880\n",
      "\n",
      "Train Epoch: 0.43 [25728/60000 (43%)]\tLoss: 0.2262\tError: 6.25\n",
      "Fwd iters: 7.00\tFwd Time: 0.0686\tBkwd Iters: 7.97\tBkwd Time: 0.1009\n",
      "\n",
      "----tuning alpha----\n",
      "current:  0.5\n",
      "alpha: 1.0\t iters: 9\n",
      "alpha: 0.5\t iters: 7\n",
      "alpha: 0.25\t iters: 11\n",
      "setting to:  0.5\n",
      "--------------\n",
      "\n",
      "Train Epoch: 0.64 [38528/60000 (64%)]\tLoss: 0.0849\tError: 0.78\n",
      "Fwd iters: 7.00\tFwd Time: 0.0666\tBkwd Iters: 8.00\tBkwd Time: 0.1000\n",
      "\n",
      "Train Epoch: 0.85 [51328/60000 (85%)]\tLoss: 0.2064\tError: 5.47\n",
      "Fwd iters: 7.00\tFwd Time: 0.0698\tBkwd Iters: 8.00\tBkwd Time: 0.1030\n",
      "\n",
      "Tot train time: 95.81319689750671\n",
      "\n",
      "\n",
      "Test set: Average loss: 0.1206, Error: 369/10000 (3.69%)\n",
      "Tot test time: 4.875991582870483\n",
      "\n",
      "\n",
      "\n",
      "\n"
     ]
    }
   ],
   "source": [
    "trainLoader, testLoader = train.mnist_loaders(train_batch_size=128, test_batch_size=400)\n",
    "\n",
    "train.train(trainLoader, testLoader,\n",
    "      train.MultiConvNet(sp.MONPeacemanRachford,\n",
    "                        in_dim=28,\n",
    "                        in_channels=1,\n",
    "                        conv_sizes=(16,32,32),\n",
    "                        alpha=1.0,\n",
    "                        max_iter=300,\n",
    "                        tol=1e-2,\n",
    "                        m=1.0),\n",
    "        max_lr=1e-3,\n",
    "        lr_mode='step',\n",
    "        step=10,\n",
    "        change_mo=False,\n",
    "#         epochs=40,\n",
    "        epochs=1,\n",
    "        print_freq=100,\n",
    "        tune_alpha=True)"
   ]
  },
  {
   "cell_type": "markdown",
   "metadata": {},
   "source": [
    "### Single convolution MON, MNIST"
   ]
  },
  {
   "cell_type": "code",
   "execution_count": 9,
   "metadata": {
    "collapsed": false,
    "jupyter": {
     "outputs_hidden": false
    },
    "pycharm": {
     "name": "#%%\n"
    }
   },
   "outputs": [
    {
     "name": "stdout",
     "output_type": "stream",
     "text": [
      "----tuning alpha----\n",
      "current:  1.0\n",
      "alpha: 1.0\t iters: 5\n",
      "alpha: 0.5\t iters: 6\n",
      "setting to:  1.0\n",
      "--------------\n",
      "\n",
      "Train Epoch: 0.21 [12928/60000 (21%)]\tLoss: 0.2081\tError: 4.69\n",
      "Fwd iters: 5.00\tFwd Time: 0.0431\tBkwd Iters: 5.00\tBkwd Time: 0.0763\n",
      "\n",
      "Train Epoch: 0.43 [25728/60000 (43%)]\tLoss: 0.1635\tError: 3.12\n",
      "Fwd iters: 5.00\tFwd Time: 0.0419\tBkwd Iters: 5.06\tBkwd Time: 0.0767\n",
      "\n",
      "----tuning alpha----\n",
      "current:  1.0\n",
      "alpha: 1.0\t iters: 5\n",
      "alpha: 0.5\t iters: 6\n",
      "setting to:  1.0\n",
      "--------------\n",
      "\n",
      "Train Epoch: 0.64 [38528/60000 (64%)]\tLoss: 0.2346\tError: 6.25\n",
      "Fwd iters: 5.00\tFwd Time: 0.0418\tBkwd Iters: 5.97\tBkwd Time: 0.0893\n",
      "\n",
      "Train Epoch: 0.85 [51328/60000 (85%)]\tLoss: 0.1615\tError: 7.03\n",
      "Fwd iters: 5.00\tFwd Time: 0.0418\tBkwd Iters: 6.00\tBkwd Time: 0.0898\n",
      "\n",
      "Tot train time: 72.66634154319763\n",
      "\n",
      "\n",
      "Test set: Average loss: 0.0938, Error: 256/10000 (2.56%)\n",
      "Tot test time: 4.002958536148071\n",
      "\n",
      "\n",
      "\n",
      "\n"
     ]
    }
   ],
   "source": [
    "trainLoader, testLoader = train.mnist_loaders(train_batch_size=128, test_batch_size=400)\n",
    "\n",
    "train.train(trainLoader, testLoader,\n",
    "      train.SingleConvNet(sp.MONPeacemanRachford,\n",
    "                        in_dim=28,\n",
    "                        in_channels=1,\n",
    "                        out_channels=54,\n",
    "                        alpha=1.0,\n",
    "                        max_iter=300,\n",
    "                        tol=1e-2,\n",
    "                        m=1.0),\n",
    "        max_lr=1e-3,\n",
    "        lr_mode='step',\n",
    "        step=10,\n",
    "        change_mo=False,\n",
    "#         epochs=40,\n",
    "        epochs=1,\n",
    "        print_freq=100,\n",
    "        tune_alpha=True)"
   ]
  },
  {
   "cell_type": "markdown",
   "metadata": {},
   "source": [
    "### Single fully-connected MON, MNIST"
   ]
  },
  {
   "cell_type": "code",
   "execution_count": 8,
   "metadata": {
    "collapsed": false,
    "jupyter": {
     "outputs_hidden": false
    },
    "pycharm": {
     "name": "#%%\n"
    },
    "tags": [
     "outputPrepend"
    ]
   },
   "outputs": [
    {
     "output_type": "stream",
     "name": "stdout",
     "text": "ss: 0.0039\tError: 0.00\nFwd iters: 12.00\tFwd Time: 0.0029\tBkwd Iters: 12.05\tBkwd Time: 0.0055\n\nTot train time: 11.80707335472107\n\n\nTest set: Average loss: 0.0642, Error: 191/10000 (1.91%)\nTot test time: 1.2869200706481934\n\n\n\n\n----tuning alpha----\ncurrent:  0.5\nalpha: 1.0\t iters: 16\nalpha: 0.5\t iters: 12\nalpha: 0.25\t iters: 17\nsetting to:  0.5\n--------------\n\nTrain Epoch: 19.21 [12928/60000 (21%)]\tLoss: 0.0089\tError: 0.00\nFwd iters: 12.00\tFwd Time: 0.0028\tBkwd Iters: 12.04\tBkwd Time: 0.0051\n\nTrain Epoch: 19.43 [25728/60000 (43%)]\tLoss: 0.0045\tError: 0.00\nFwd iters: 12.00\tFwd Time: 0.0029\tBkwd Iters: 12.04\tBkwd Time: 0.0054\n\n----tuning alpha----\ncurrent:  0.5\nalpha: 1.0\t iters: 15\nalpha: 0.5\t iters: 12\nalpha: 0.25\t iters: 17\nsetting to:  0.5\n--------------\n\nTrain Epoch: 19.64 [38528/60000 (64%)]\tLoss: 0.0049\tError: 0.00\nFwd iters: 12.00\tFwd Time: 0.0030\tBkwd Iters: 12.00\tBkwd Time: 0.0054\n\nTrain Epoch: 19.85 [51328/60000 (85%)]\tLoss: 0.0042\tError: 0.00\nFwd iters: 12.00\tFwd Time: 0.0029\tBkwd Iters: 12.07\tBkwd Time: 0.0054\n\nTot train time: 11.719479084014893\n\n\nTest set: Average loss: 0.0644, Error: 193/10000 (1.93%)\nTot test time: 1.2765991687774658\n\n\n\n\n----tuning alpha----\ncurrent:  0.5\nalpha: 1.0\t iters: 16\nalpha: 0.5\t iters: 12\nalpha: 0.25\t iters: 17\nsetting to:  0.5\n--------------\n\nTrain Epoch: 20.21 [12928/60000 (21%)]\tLoss: 0.0065\tError: 0.00\nFwd iters: 12.00\tFwd Time: 0.0029\tBkwd Iters: 12.08\tBkwd Time: 0.0053\n\nTrain Epoch: 20.43 [25728/60000 (43%)]\tLoss: 0.0089\tError: 0.00\nFwd iters: 12.00\tFwd Time: 0.0032\tBkwd Iters: 12.06\tBkwd Time: 0.0056\n\n----tuning alpha----\ncurrent:  0.5\nalpha: 1.0\t iters: 15\nalpha: 0.5\t iters: 12\nalpha: 0.25\t iters: 17\nsetting to:  0.5\n--------------\n\nTrain Epoch: 20.64 [38528/60000 (64%)]\tLoss: 0.0029\tError: 0.00\nFwd iters: 12.00\tFwd Time: 0.0029\tBkwd Iters: 12.01\tBkwd Time: 0.0053\n\nTrain Epoch: 20.85 [51328/60000 (85%)]\tLoss: 0.0022\tError: 0.00\nFwd iters: 12.00\tFwd Time: 0.0031\tBkwd Iters: 12.05\tBkwd Time: 0.0057\n\nTot train time: 12.083106279373169\n\n\nTest set: Average loss: 0.0635, Error: 190/10000 (1.90%)\nTot test time: 1.2920691967010498\n\n\n\n\n----tuning alpha----\ncurrent:  0.5\nalpha: 1.0\t iters: 15\nalpha: 0.5\t iters: 12\nalpha: 0.25\t iters: 17\nsetting to:  0.5\n--------------\n\nTrain Epoch: 21.21 [12928/60000 (21%)]\tLoss: 0.0051\tError: 0.00\nFwd iters: 12.00\tFwd Time: 0.0029\tBkwd Iters: 12.07\tBkwd Time: 0.0054\n\nTrain Epoch: 21.43 [25728/60000 (43%)]\tLoss: 0.0102\tError: 0.00\nFwd iters: 12.00\tFwd Time: 0.0029\tBkwd Iters: 12.07\tBkwd Time: 0.0055\n\n----tuning alpha----\ncurrent:  0.5\nalpha: 1.0\t iters: 16\nalpha: 0.5\t iters: 12\nalpha: 0.25\t iters: 17\nsetting to:  0.5\n--------------\n\nTrain Epoch: 21.64 [38528/60000 (64%)]\tLoss: 0.0050\tError: 0.00\nFwd iters: 12.00\tFwd Time: 0.0028\tBkwd Iters: 12.04\tBkwd Time: 0.0052\n\nTrain Epoch: 21.85 [51328/60000 (85%)]\tLoss: 0.0094\tError: 0.00\nFwd iters: 12.00\tFwd Time: 0.0029\tBkwd Iters: 12.05\tBkwd Time: 0.0054\n\nTot train time: 11.67612099647522\n\n\nTest set: Average loss: 0.0634, Error: 191/10000 (1.91%)\nTot test time: 1.315845251083374\n\n\n\n\n----tuning alpha----\ncurrent:  0.5\nalpha: 1.0\t iters: 15\nalpha: 0.5\t iters: 12\nalpha: 0.25\t iters: 17\nsetting to:  0.5\n--------------\n\nTrain Epoch: 22.21 [12928/60000 (21%)]\tLoss: 0.0043\tError: 0.00\nFwd iters: 12.00\tFwd Time: 0.0028\tBkwd Iters: 12.03\tBkwd Time: 0.0051\n\nTrain Epoch: 22.43 [25728/60000 (43%)]\tLoss: 0.0039\tError: 0.00\nFwd iters: 12.00\tFwd Time: 0.0029\tBkwd Iters: 12.06\tBkwd Time: 0.0054\n\n----tuning alpha----\ncurrent:  0.5\nalpha: 1.0\t iters: 15\nalpha: 0.5\t iters: 12\nalpha: 0.25\t iters: 17\nsetting to:  0.5\n--------------\n\nTrain Epoch: 22.64 [38528/60000 (64%)]\tLoss: 0.0069\tError: 0.00\nFwd iters: 12.00\tFwd Time: 0.0029\tBkwd Iters: 12.06\tBkwd Time: 0.0054\n\nTrain Epoch: 22.85 [51328/60000 (85%)]\tLoss: 0.0044\tError: 0.00\nFwd iters: 12.00\tFwd Time: 0.0029\tBkwd Iters: 12.03\tBkwd Time: 0.0052\n\nTot train time: 11.675134181976318\n\n\nTest set: Average loss: 0.0631, Error: 191/10000 (1.91%)\nTot test time: 1.2834374904632568\n\n\n\n\n----tuning alpha----\ncurrent:  0.5\nalpha: 1.0\t iters: 16\nalpha: 0.5\t iters: 12\nalpha: 0.25\t iters: 17\nsetting to:  0.5\n--------------\n\nTrain Epoch: 23.21 [12928/60000 (21%)]\tLoss: 0.0099\tError: 0.00\nFwd iters: 12.00\tFwd Time: 0.0029\tBkwd Iters: 12.06\tBkwd Time: 0.0053\n\nTrain Epoch: 23.43 [25728/60000 (43%)]\tLoss: 0.0057\tError: 0.00\nFwd iters: 12.00\tFwd Time: 0.0030\tBkwd Iters: 12.04\tBkwd Time: 0.0054\n\n----tuning alpha----\ncurrent:  0.5\nalpha: 1.0\t iters: 15\nalpha: 0.5\t iters: 12\nalpha: 0.25\t iters: 17\nsetting to:  0.5\n--------------\n\nTrain Epoch: 23.64 [38528/60000 (64%)]\tLoss: 0.0132\tError: 0.00\nFwd iters: 12.00\tFwd Time: 0.0030\tBkwd Iters: 12.07\tBkwd Time: 0.0053\n\nTrain Epoch: 23.85 [51328/60000 (85%)]\tLoss: 0.0137\tError: 0.78\nFwd iters: 12.00\tFwd Time: 0.0029\tBkwd Iters: 12.04\tBkwd Time: 0.0056\n\nTot train time: 11.819862365722656\n\n\nTest set: Average loss: 0.0633, Error: 191/10000 (1.91%)\nTot test time: 1.2779641151428223\n\n\n\n\n----tuning alpha----\ncurrent:  0.5\nalpha: 1.0\t iters: 15\nalpha: 0.5\t iters: 12\nalpha: 0.25\t iters: 17\nsetting to:  0.5\n--------------\n\nTrain Epoch: 24.21 [12928/60000 (21%)]\tLoss: 0.0040\tError: 0.00\nFwd iters: 12.00\tFwd Time: 0.0028\tBkwd Iters: 12.04\tBkwd Time: 0.0054\n\nTrain Epoch: 24.43 [25728/60000 (43%)]\tLoss: 0.0047\tError: 0.00\nFwd iters: 12.00\tFwd Time: 0.0030\tBkwd Iters: 12.07\tBkwd Time: 0.0056\n\n----tuning alpha----\ncurrent:  0.5\nalpha: 1.0\t iters: 16\nalpha: 0.5\t iters: 12\nalpha: 0.25\t iters: 17\nsetting to:  0.5\n--------------\n\nTrain Epoch: 24.64 [38528/60000 (64%)]\tLoss: 0.0060\tError: 0.00\nFwd iters: 12.00\tFwd Time: 0.0029\tBkwd Iters: 12.03\tBkwd Time: 0.0053\n\nTrain Epoch: 24.85 [51328/60000 (85%)]\tLoss: 0.0048\tError: 0.00\nFwd iters: 12.00\tFwd Time: 0.0029\tBkwd Iters: 12.05\tBkwd Time: 0.0053\n\nTot train time: 11.773236513137817\n\n\nTest set: Average loss: 0.0634, Error: 193/10000 (1.93%)\nTot test time: 1.2772390842437744\n\n\n\n\n----tuning alpha----\ncurrent:  0.5\nalpha: 1.0\t iters: 16\nalpha: 0.5\t iters: 12\nalpha: 0.25\t iters: 17\nsetting to:  0.5\n--------------\n\nTrain Epoch: 25.21 [12928/60000 (21%)]\tLoss: 0.0057\tError: 0.00\nFwd iters: 12.00\tFwd Time: 0.0030\tBkwd Iters: 12.06\tBkwd Time: 0.0054\n\nTrain Epoch: 25.43 [25728/60000 (43%)]\tLoss: 0.0124\tError: 0.00\nFwd iters: 12.00\tFwd Time: 0.0029\tBkwd Iters: 12.01\tBkwd Time: 0.0053\n\n----tuning alpha----\ncurrent:  0.5\nalpha: 1.0\t iters: 15\nalpha: 0.5\t iters: 12\nalpha: 0.25\t iters: 17\nsetting to:  0.5\n--------------\n\nTrain Epoch: 25.64 [38528/60000 (64%)]\tLoss: 0.0038\tError: 0.00\nFwd iters: 12.00\tFwd Time: 0.0030\tBkwd Iters: 12.07\tBkwd Time: 0.0054\n\nTrain Epoch: 25.85 [51328/60000 (85%)]\tLoss: 0.0051\tError: 0.00\nFwd iters: 12.00\tFwd Time: 0.0029\tBkwd Iters: 12.05\tBkwd Time: 0.0054\n\nTot train time: 11.77321171760559\n\n\nTest set: Average loss: 0.0634, Error: 193/10000 (1.93%)\nTot test time: 1.2842199802398682\n\n\n\n\n----tuning alpha----\ncurrent:  0.5\nalpha: 1.0\t iters: 15\nalpha: 0.5\t iters: 12\nalpha: 0.25\t iters: 17\nsetting to:  0.5\n--------------\n\nTrain Epoch: 26.21 [12928/60000 (21%)]\tLoss: 0.0063\tError: 0.00\nFwd iters: 12.00\tFwd Time: 0.0031\tBkwd Iters: 12.03\tBkwd Time: 0.0057\n\nTrain Epoch: 26.43 [25728/60000 (43%)]\tLoss: 0.0040\tError: 0.00\nFwd iters: 12.00\tFwd Time: 0.0032\tBkwd Iters: 12.12\tBkwd Time: 0.0059\n\n----tuning alpha----\ncurrent:  0.5\nalpha: 1.0\t iters: 16\nalpha: 0.5\t iters: 12\nalpha: 0.25\t iters: 17\nsetting to:  0.5\n--------------\n\nTrain Epoch: 26.64 [38528/60000 (64%)]\tLoss: 0.0121\tError: 0.78\nFwd iters: 12.00\tFwd Time: 0.0030\tBkwd Iters: 12.03\tBkwd Time: 0.0056\n\nTrain Epoch: 26.85 [51328/60000 (85%)]\tLoss: 0.0064\tError: 0.00\nFwd iters: 12.00\tFwd Time: 0.0030\tBkwd Iters: 12.05\tBkwd Time: 0.0054\n\nTot train time: 12.139852046966553\n\n\nTest set: Average loss: 0.0634, Error: 190/10000 (1.90%)\nTot test time: 1.3155028820037842\n\n\n\n\n----tuning alpha----\ncurrent:  0.5\nalpha: 1.0\t iters: 16\nalpha: 0.5\t iters: 12\nalpha: 0.25\t iters: 17\nsetting to:  0.5\n--------------\n\nTrain Epoch: 27.21 [12928/60000 (21%)]\tLoss: 0.0027\tError: 0.00\nFwd iters: 12.00\tFwd Time: 0.0030\tBkwd Iters: 12.08\tBkwd Time: 0.0054\n\nTrain Epoch: 27.43 [25728/60000 (43%)]\tLoss: 0.0057\tError: 0.00\nFwd iters: 12.00\tFwd Time: 0.0031\tBkwd Iters: 12.04\tBkwd Time: 0.0055\n\n----tuning alpha----\ncurrent:  0.5\nalpha: 1.0\t iters: 16\nalpha: 0.5\t iters: 12\nalpha: 0.25\t iters: 17\nsetting to:  0.5\n--------------\n\nTrain Epoch: 27.64 [38528/60000 (64%)]\tLoss: 0.0035\tError: 0.00\nFwd iters: 12.00\tFwd Time: 0.0030\tBkwd Iters: 12.01\tBkwd Time: 0.0056\n\nTrain Epoch: 27.85 [51328/60000 (85%)]\tLoss: 0.0040\tError: 0.00\nFwd iters: 12.00\tFwd Time: 0.0029\tBkwd Iters: 12.05\tBkwd Time: 0.0054\n\nTot train time: 11.900158643722534\n\n\nTest set: Average loss: 0.0635, Error: 193/10000 (1.93%)\nTot test time: 1.2718257904052734\n\n\n\n\n----tuning alpha----\ncurrent:  0.5\nalpha: 1.0\t iters: 15\nalpha: 0.5\t iters: 12\nalpha: 0.25\t iters: 17\nsetting to:  0.5\n--------------\n\nTrain Epoch: 28.21 [12928/60000 (21%)]\tLoss: 0.0054\tError: 0.00\nFwd iters: 12.00\tFwd Time: 0.0029\tBkwd Iters: 12.03\tBkwd Time: 0.0054\n\nTrain Epoch: 28.43 [25728/60000 (43%)]\tLoss: 0.0021\tError: 0.00\nFwd iters: 12.00\tFwd Time: 0.0031\tBkwd Iters: 12.02\tBkwd Time: 0.0058\n\n----tuning alpha----\ncurrent:  0.5\nalpha: 1.0\t iters: 16\nalpha: 0.5\t iters: 12\nalpha: 0.25\t iters: 17\nsetting to:  0.5\n--------------\n\nTrain Epoch: 28.64 [38528/60000 (64%)]\tLoss: 0.0027\tError: 0.00\nFwd iters: 12.00\tFwd Time: 0.0030\tBkwd Iters: 12.04\tBkwd Time: 0.0054\n\nTrain Epoch: 28.85 [51328/60000 (85%)]\tLoss: 0.0086\tError: 0.78\nFwd iters: 12.00\tFwd Time: 0.0029\tBkwd Iters: 12.06\tBkwd Time: 0.0055\n\nTot train time: 12.009372234344482\n\n\nTest set: Average loss: 0.0635, Error: 194/10000 (1.94%)\nTot test time: 1.299135684967041\n\n\n\n\n----tuning alpha----\ncurrent:  0.5\nalpha: 1.0\t iters: 16\nalpha: 0.5\t iters: 12\nalpha: 0.25\t iters: 17\nsetting to:  0.5\n--------------\n\nTrain Epoch: 29.21 [12928/60000 (21%)]\tLoss: 0.0060\tError: 0.00\nFwd iters: 12.00\tFwd Time: 0.0032\tBkwd Iters: 12.01\tBkwd Time: 0.0061\n\nTrain Epoch: 29.43 [25728/60000 (43%)]\tLoss: 0.0029\tError: 0.00\nFwd iters: 12.00\tFwd Time: 0.0029\tBkwd Iters: 12.02\tBkwd Time: 0.0052\n\n----tuning alpha----\ncurrent:  0.5\nalpha: 1.0\t iters: 15\nalpha: 0.5\t iters: 12\nalpha: 0.25\t iters: 17\nsetting to:  0.5\n--------------\n\nTrain Epoch: 29.64 [38528/60000 (64%)]\tLoss: 0.0021\tError: 0.00\nFwd iters: 12.00\tFwd Time: 0.0030\tBkwd Iters: 12.06\tBkwd Time: 0.0052\n\nTrain Epoch: 29.85 [51328/60000 (85%)]\tLoss: 0.0029\tError: 0.00\nFwd iters: 12.00\tFwd Time: 0.0029\tBkwd Iters: 12.08\tBkwd Time: 0.0053\n\nTot train time: 11.798828363418579\n\n\nTest set: Average loss: 0.0636, Error: 189/10000 (1.89%)\nTot test time: 1.2732441425323486\n\n\n\n\n----tuning alpha----\ncurrent:  0.5\nalpha: 1.0\t iters: 15\nalpha: 0.5\t iters: 12\nalpha: 0.25\t iters: 17\nsetting to:  0.5\n--------------\n\nTrain Epoch: 30.21 [12928/60000 (21%)]\tLoss: 0.0046\tError: 0.00\nFwd iters: 12.00\tFwd Time: 0.0029\tBkwd Iters: 12.07\tBkwd Time: 0.0054\n\nTrain Epoch: 30.43 [25728/60000 (43%)]\tLoss: 0.0030\tError: 0.00\nFwd iters: 12.00\tFwd Time: 0.0029\tBkwd Iters: 12.09\tBkwd Time: 0.0052\n\n----tuning alpha----\ncurrent:  0.5\nalpha: 1.0\t iters: 15\nalpha: 0.5\t iters: 12\nalpha: 0.25\t iters: 17\nsetting to:  0.5\n--------------\n\nTrain Epoch: 30.64 [38528/60000 (64%)]\tLoss: 0.0065\tError: 0.00\nFwd iters: 12.00\tFwd Time: 0.0029\tBkwd Iters: 12.01\tBkwd Time: 0.0052\n\nTrain Epoch: 30.85 [51328/60000 (85%)]\tLoss: 0.0075\tError: 0.00\nFwd iters: 12.00\tFwd Time: 0.0029\tBkwd Iters: 12.03\tBkwd Time: 0.0052\n\nTot train time: 11.69542908668518\n\n\nTest set: Average loss: 0.0636, Error: 189/10000 (1.89%)\nTot test time: 1.283479928970337\n\n\n\n\n----tuning alpha----\ncurrent:  0.5\nalpha: 1.0\t iters: 15\nalpha: 0.5\t iters: 12\nalpha: 0.25\t iters: 17\nsetting to:  0.5\n--------------\n\nTrain Epoch: 31.21 [12928/60000 (21%)]\tLoss: 0.0264\tError: 0.78\nFwd iters: 12.00\tFwd Time: 0.0029\tBkwd Iters: 12.07\tBkwd Time: 0.0054\n\nTrain Epoch: 31.43 [25728/60000 (43%)]\tLoss: 0.0080\tError: 0.00\nFwd iters: 12.00\tFwd Time: 0.0029\tBkwd Iters: 12.06\tBkwd Time: 0.0053\n\n----tuning alpha----\ncurrent:  0.5\nalpha: 1.0\t iters: 16\nalpha: 0.5\t iters: 12\nalpha: 0.25\t iters: 17\nsetting to:  0.5\n--------------\n\nTrain Epoch: 31.64 [38528/60000 (64%)]\tLoss: 0.0012\tError: 0.00\nFwd iters: 12.00\tFwd Time: 0.0029\tBkwd Iters: 12.03\tBkwd Time: 0.0052\n\nTrain Epoch: 31.85 [51328/60000 (85%)]\tLoss: 0.0038\tError: 0.00\nFwd iters: 12.00\tFwd Time: 0.0029\tBkwd Iters: 12.08\tBkwd Time: 0.0053\n\nTot train time: 11.671703338623047\n\n\nTest set: Average loss: 0.0636, Error: 190/10000 (1.90%)\nTot test time: 1.2744107246398926\n\n\n\n\n----tuning alpha----\ncurrent:  0.5\nalpha: 1.0\t iters: 15\nalpha: 0.5\t iters: 12\nalpha: 0.25\t iters: 17\nsetting to:  0.5\n--------------\n\nTrain Epoch: 32.21 [12928/60000 (21%)]\tLoss: 0.0025\tError: 0.00\nFwd iters: 12.00\tFwd Time: 0.0029\tBkwd Iters: 12.06\tBkwd Time: 0.0053\n\nTrain Epoch: 32.43 [25728/60000 (43%)]\tLoss: 0.0045\tError: 0.00\nFwd iters: 12.00\tFwd Time: 0.0029\tBkwd Iters: 12.06\tBkwd Time: 0.0052\n\n----tuning alpha----\ncurrent:  0.5\nalpha: 1.0\t iters: 16\nalpha: 0.5\t iters: 12\nalpha: 0.25\t iters: 17\nsetting to:  0.5\n--------------\n\nTrain Epoch: 32.64 [38528/60000 (64%)]\tLoss: 0.0052\tError: 0.00\nFwd iters: 12.00\tFwd Time: 0.0029\tBkwd Iters: 12.03\tBkwd Time: 0.0052\n\nTrain Epoch: 32.85 [51328/60000 (85%)]\tLoss: 0.0064\tError: 0.00\nFwd iters: 12.00\tFwd Time: 0.0029\tBkwd Iters: 12.06\tBkwd Time: 0.0054\n\nTot train time: 11.721689224243164\n\n\nTest set: Average loss: 0.0636, Error: 191/10000 (1.91%)\nTot test time: 1.2855377197265625\n\n\n\n\n----tuning alpha----\ncurrent:  0.5\nalpha: 1.0\t iters: 15\nalpha: 0.5\t iters: 12\nalpha: 0.25\t iters: 17\nsetting to:  0.5\n--------------\n\nTrain Epoch: 33.21 [12928/60000 (21%)]\tLoss: 0.0028\tError: 0.00\nFwd iters: 12.00\tFwd Time: 0.0029\tBkwd Iters: 12.07\tBkwd Time: 0.0053\n\nTrain Epoch: 33.43 [25728/60000 (43%)]\tLoss: 0.0091\tError: 0.78\nFwd iters: 12.00\tFwd Time: 0.0031\tBkwd Iters: 12.06\tBkwd Time: 0.0058\n\n----tuning alpha----\ncurrent:  0.5\nalpha: 1.0\t iters: 16\nalpha: 0.5\t iters: 12\nalpha: 0.25\t iters: 17\nsetting to:  0.5\n--------------\n\nTrain Epoch: 33.64 [38528/60000 (64%)]\tLoss: 0.0044\tError: 0.00\nFwd iters: 12.00\tFwd Time: 0.0033\tBkwd Iters: 12.00\tBkwd Time: 0.0057\n\nTrain Epoch: 33.85 [51328/60000 (85%)]\tLoss: 0.0031\tError: 0.00\nFwd iters: 12.00\tFwd Time: 0.0031\tBkwd Iters: 12.02\tBkwd Time: 0.0056\n\nTot train time: 12.189317464828491\n\n\nTest set: Average loss: 0.0636, Error: 190/10000 (1.90%)\nTot test time: 1.278860092163086\n\n\n\n\n----tuning alpha----\ncurrent:  0.5\nalpha: 1.0\t iters: 15\nalpha: 0.5\t iters: 12\nalpha: 0.25\t iters: 17\nsetting to:  0.5\n--------------\n\nTrain Epoch: 34.21 [12928/60000 (21%)]\tLoss: 0.0042\tError: 0.00\nFwd iters: 12.00\tFwd Time: 0.0029\tBkwd Iters: 12.04\tBkwd Time: 0.0054\n\nTrain Epoch: 34.43 [25728/60000 (43%)]\tLoss: 0.0114\tError: 0.00\nFwd iters: 12.00\tFwd Time: 0.0029\tBkwd Iters: 12.05\tBkwd Time: 0.0052\n\n----tuning alpha----\ncurrent:  0.5\nalpha: 1.0\t iters: 15\nalpha: 0.5\t iters: 12\nalpha: 0.25\t iters: 17\nsetting to:  0.5\n--------------\n\nTrain Epoch: 34.64 [38528/60000 (64%)]\tLoss: 0.0027\tError: 0.00\nFwd iters: 12.00\tFwd Time: 0.0030\tBkwd Iters: 12.03\tBkwd Time: 0.0055\n\nTrain Epoch: 34.85 [51328/60000 (85%)]\tLoss: 0.0055\tError: 0.00\nFwd iters: 12.00\tFwd Time: 0.0028\tBkwd Iters: 12.04\tBkwd Time: 0.0050\n\nTot train time: 11.667612791061401\n\n\nTest set: Average loss: 0.0636, Error: 191/10000 (1.91%)\nTot test time: 1.2759225368499756\n\n\n\n\n----tuning alpha----\ncurrent:  0.5\nalpha: 1.0\t iters: 16\nalpha: 0.5\t iters: 12\nalpha: 0.25\t iters: 17\nsetting to:  0.5\n--------------\n\nTrain Epoch: 35.21 [12928/60000 (21%)]\tLoss: 0.0080\tError: 0.00\nFwd iters: 12.00\tFwd Time: 0.0028\tBkwd Iters: 12.04\tBkwd Time: 0.0051\n\nTrain Epoch: 35.43 [25728/60000 (43%)]\tLoss: 0.0047\tError: 0.00\nFwd iters: 12.00\tFwd Time: 0.0028\tBkwd Iters: 12.04\tBkwd Time: 0.0050\n\n----tuning alpha----\ncurrent:  0.5\nalpha: 1.0\t iters: 16\nalpha: 0.5\t iters: 12\nalpha: 0.25\t iters: 17\nsetting to:  0.5\n--------------\n\nTrain Epoch: 35.64 [38528/60000 (64%)]\tLoss: 0.0021\tError: 0.00\nFwd iters: 12.00\tFwd Time: 0.0029\tBkwd Iters: 12.06\tBkwd Time: 0.0052\n\nTrain Epoch: 35.85 [51328/60000 (85%)]\tLoss: 0.0057\tError: 0.00\nFwd iters: 12.00\tFwd Time: 0.0031\tBkwd Iters: 12.03\tBkwd Time: 0.0056\n\nTot train time: 11.681918859481812\n\n\nTest set: Average loss: 0.0636, Error: 191/10000 (1.91%)\nTot test time: 1.4032173156738281\n\n\n\n\n----tuning alpha----\ncurrent:  0.5\nalpha: 1.0\t iters: 16\nalpha: 0.5\t iters: 12\nalpha: 0.25\t iters: 17\nsetting to:  0.5\n--------------\n\nTrain Epoch: 36.21 [12928/60000 (21%)]\tLoss: 0.0053\tError: 0.00\nFwd iters: 12.00\tFwd Time: 0.0029\tBkwd Iters: 12.06\tBkwd Time: 0.0054\n\nTrain Epoch: 36.43 [25728/60000 (43%)]\tLoss: 0.0065\tError: 0.00\nFwd iters: 12.00\tFwd Time: 0.0029\tBkwd Iters: 12.04\tBkwd Time: 0.0054\n\n----tuning alpha----\ncurrent:  0.5\nalpha: 1.0\t iters: 16\nalpha: 0.5\t iters: 12\nalpha: 0.25\t iters: 17\nsetting to:  0.5\n--------------\n\nTrain Epoch: 36.64 [38528/60000 (64%)]\tLoss: 0.0051\tError: 0.00\nFwd iters: 12.00\tFwd Time: 0.0028\tBkwd Iters: 12.10\tBkwd Time: 0.0050\n\nTrain Epoch: 36.85 [51328/60000 (85%)]\tLoss: 0.0103\tError: 0.00\nFwd iters: 12.00\tFwd Time: 0.0027\tBkwd Iters: 12.02\tBkwd Time: 0.0050\n\nTot train time: 11.574610471725464\n\n\nTest set: Average loss: 0.0636, Error: 191/10000 (1.91%)\nTot test time: 1.2973628044128418\n\n\n\n\n----tuning alpha----\ncurrent:  0.5\nalpha: 1.0\t iters: 15\nalpha: 0.5\t iters: 12\nalpha: 0.25\t iters: 17\nsetting to:  0.5\n--------------\n\nTrain Epoch: 37.21 [12928/60000 (21%)]\tLoss: 0.0106\tError: 0.00\nFwd iters: 12.00\tFwd Time: 0.0028\tBkwd Iters: 12.03\tBkwd Time: 0.0050\n\nTrain Epoch: 37.43 [25728/60000 (43%)]\tLoss: 0.0061\tError: 0.00\nFwd iters: 12.00\tFwd Time: 0.0028\tBkwd Iters: 12.06\tBkwd Time: 0.0052\n\n----tuning alpha----\ncurrent:  0.5\nalpha: 1.0\t iters: 15\nalpha: 0.5\t iters: 12\nalpha: 0.25\t iters: 17\nsetting to:  0.5\n--------------\n\nTrain Epoch: 37.64 [38528/60000 (64%)]\tLoss: 0.0029\tError: 0.00\nFwd iters: 12.00\tFwd Time: 0.0029\tBkwd Iters: 12.07\tBkwd Time: 0.0053\n\nTrain Epoch: 37.85 [51328/60000 (85%)]\tLoss: 0.0018\tError: 0.00\nFwd iters: 12.00\tFwd Time: 0.0031\tBkwd Iters: 12.04\tBkwd Time: 0.0056\n\nTot train time: 11.627652645111084\n\n\nTest set: Average loss: 0.0636, Error: 192/10000 (1.92%)\nTot test time: 1.3452863693237305\n\n\n\n\n----tuning alpha----\ncurrent:  0.5\nalpha: 1.0\t iters: 15\nalpha: 0.5\t iters: 12\nalpha: 0.25\t iters: 17\nsetting to:  0.5\n--------------\n\nTrain Epoch: 38.21 [12928/60000 (21%)]\tLoss: 0.0033\tError: 0.00\nFwd iters: 12.00\tFwd Time: 0.0032\tBkwd Iters: 12.03\tBkwd Time: 0.0055\n\nTrain Epoch: 38.43 [25728/60000 (43%)]\tLoss: 0.0051\tError: 0.00\nFwd iters: 12.00\tFwd Time: 0.0031\tBkwd Iters: 12.08\tBkwd Time: 0.0055\n\n----tuning alpha----\ncurrent:  0.5\nalpha: 1.0\t iters: 15\nalpha: 0.5\t iters: 12\nalpha: 0.25\t iters: 17\nsetting to:  0.5\n--------------\n\nTrain Epoch: 38.64 [38528/60000 (64%)]\tLoss: 0.0072\tError: 0.00\nFwd iters: 12.00\tFwd Time: 0.0032\tBkwd Iters: 12.09\tBkwd Time: 0.0057\n\nTrain Epoch: 38.85 [51328/60000 (85%)]\tLoss: 0.0059\tError: 0.00\nFwd iters: 12.00\tFwd Time: 0.0028\tBkwd Iters: 12.07\tBkwd Time: 0.0051\n\nTot train time: 11.912561655044556\n\n\nTest set: Average loss: 0.0636, Error: 192/10000 (1.92%)\nTot test time: 1.2476603984832764\n\n\n\n\n----tuning alpha----\ncurrent:  0.5\nalpha: 1.0\t iters: 15\nalpha: 0.5\t iters: 12\nalpha: 0.25\t iters: 17\nsetting to:  0.5\n--------------\n\nTrain Epoch: 39.21 [12928/60000 (21%)]\tLoss: 0.0050\tError: 0.00\nFwd iters: 12.00\tFwd Time: 0.0028\tBkwd Iters: 12.06\tBkwd Time: 0.0051\n\nTrain Epoch: 39.43 [25728/60000 (43%)]\tLoss: 0.0068\tError: 0.00\nFwd iters: 12.00\tFwd Time: 0.0028\tBkwd Iters: 12.02\tBkwd Time: 0.0050\n\n----tuning alpha----\ncurrent:  0.5\nalpha: 1.0\t iters: 15\nalpha: 0.5\t iters: 12\nalpha: 0.25\t iters: 17\nsetting to:  0.5\n--------------\n\nTrain Epoch: 39.64 [38528/60000 (64%)]\tLoss: 0.0075\tError: 0.00\nFwd iters: 12.00\tFwd Time: 0.0028\tBkwd Iters: 12.06\tBkwd Time: 0.0051\n\nTrain Epoch: 39.85 [51328/60000 (85%)]\tLoss: 0.0047\tError: 0.00\nFwd iters: 12.00\tFwd Time: 0.0028\tBkwd Iters: 12.07\tBkwd Time: 0.0052\n\nTot train time: 11.342264890670776\n\n\nTest set: Average loss: 0.0636, Error: 191/10000 (1.91%)\nTot test time: 1.2661056518554688\n\n\n\n\n"
    }
   ],
   "source": [
    "trainLoader, testLoader = train.mnist_loaders(train_batch_size=128, test_batch_size=400)\n",
    "\n",
    "train.train(trainLoader, testLoader,\n",
    "      train.SingleFcNet(sp.MONPeacemanRachford,\n",
    "                        in_dim=28**2,\n",
    "                        out_dim=87,\n",
    "                        alpha=1.0,\n",
    "                        max_iter=300,\n",
    "                        tol=1e-4,\n",
    "                        m=1.0),\n",
    "        max_lr=1e-3,\n",
    "        lr_mode='step',\n",
    "        step=10,\n",
    "        change_mo=False,\n",
    "#         epochs=40,\n",
    "        epochs=40,\n",
    "        print_freq=100,\n",
    "        tune_alpha=True)\n"
   ]
  },
  {
   "cell_type": "code",
   "execution_count": null,
   "metadata": {},
   "outputs": [],
   "source": []
  }
 ],
 "metadata": {
  "kernelspec": {
   "display_name": "Python 3",
   "language": "python",
   "name": "python3"
  },
  "language_info": {
   "codemirror_mode": {
    "name": "ipython",
    "version": 3
   },
   "file_extension": ".py",
   "mimetype": "text/x-python",
   "name": "python",
   "nbconvert_exporter": "python",
   "pygments_lexer": "ipython3",
   "version": "3.6.9-final"
  },
  "pycharm": {
   "stem_cell": {
    "cell_type": "raw",
    "metadata": {
     "collapsed": false
    },
    "source": []
   }
  }
 },
 "nbformat": 4,
 "nbformat_minor": 4
}